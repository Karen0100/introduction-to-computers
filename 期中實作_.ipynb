{
  "nbformat": 4,
  "nbformat_minor": 0,
  "metadata": {
    "colab": {
      "name": "期中實作_.ipynb",
      "provenance": [],
      "authorship_tag": "ABX9TyMOPkl8zOxj4KgJ5jEZZz59",
      "include_colab_link": true
    },
    "kernelspec": {
      "name": "python3",
      "display_name": "Python 3"
    },
    "language_info": {
      "name": "python"
    }
  },
  "cells": [
    {
      "cell_type": "markdown",
      "metadata": {
        "id": "view-in-github",
        "colab_type": "text"
      },
      "source": [
        "<a href=\"https://colab.research.google.com/github/Karen0100/introduction-to-computers/blob/main/%E6%9C%9F%E4%B8%AD%E5%AF%A6%E4%BD%9C_.ipynb\" target=\"_parent\"><img src=\"https://colab.research.google.com/assets/colab-badge.svg\" alt=\"Open In Colab\"/></a>"
      ]
    },
    {
      "cell_type": "code",
      "execution_count": 15,
      "metadata": {
        "colab": {
          "base_uri": "https://localhost:8080/"
        },
        "id": "XoREC7la4ar9",
        "outputId": "4599f2cc-eaf1-455d-9f30-5d91c2aa1ab0"
      },
      "outputs": [
        {
          "output_type": "stream",
          "name": "stdout",
          "text": [
            "會計一b\n",
            "410606536\n",
            "蔡婉秦\n"
          ]
        }
      ],
      "source": [
        "班級 = '會計一b'\n",
        "學號 = 410606536\n",
        "姓名 = '蔡婉秦'\n",
        "print(班級)\n",
        "print(學號)\n",
        "print(姓名)"
      ]
    },
    {
      "cell_type": "code",
      "source": [
        "月份=int(input('請輸入月份:'))\n",
        "日期=int(input('請輸入日期:'))\n",
        "星期幾=int(input('請輸入今天是星期幾:'))"
      ],
      "metadata": {
        "colab": {
          "base_uri": "https://localhost:8080/"
        },
        "id": "JIHjK4E160YY",
        "outputId": "8303c477-27da-42b8-af66-315e8d44a521"
      },
      "execution_count": 37,
      "outputs": [
        {
          "name": "stdout",
          "output_type": "stream",
          "text": [
            "請輸入月份:5\n",
            "請輸入日期:2\n",
            "請輸入今天是星期幾:2\n"
          ]
        }
      ]
    },
    {
      "cell_type": "code",
      "source": [
        "print('今天是',月份,'月',日期,'號','星期',星期幾,sep = '')"
      ],
      "metadata": {
        "colab": {
          "base_uri": "https://localhost:8080/"
        },
        "id": "RbkBcRRm_H4k",
        "outputId": "9ce73694-b1f9-4bb3-fe9f-a132b640f6fc"
      },
      "execution_count": 66,
      "outputs": [
        {
          "output_type": "stream",
          "name": "stdout",
          "text": [
            "今天是5月2號星期2\n"
          ]
        }
      ]
    },
    {
      "cell_type": "code",
      "source": [
        "上底 = int(input('請輸入上底長度:'))\n",
        "下底 = int(input('請輸入下底長度:'))\n",
        "高 = int(input('請輸入梯形高度:'))\n",
        "面積 = (上底 + 下底)*高 / 2\n",
        "print('梯形上底長度為：',上底,'梯形下底長度為：',下底,'梯形高度為：',高,'梯形面積為：',面積)"
      ],
      "metadata": {
        "colab": {
          "base_uri": "https://localhost:8080/"
        },
        "id": "UemEHxheAVxo",
        "outputId": "d196dfe1-fc38-43b5-ddd3-ee83bbfe2925"
      },
      "execution_count": 42,
      "outputs": [
        {
          "output_type": "stream",
          "name": "stdout",
          "text": [
            "請輸入上底長度:4\n",
            "請輸入下底長度:5\n",
            "請輸入梯形高度:4\n",
            "梯形上底長度為： 4 梯形下底長度為： 5 梯形高度為： 4 梯形面積為： 18.0\n"
          ]
        }
      ]
    },
    {
      "cell_type": "code",
      "source": [
        "身高 = int(input('請輸入您的身高:'))\n",
        "體重 = int(input('請輸入您的體重:'))\n",
        "BMI = 體重/(身高/100)**2\n",
        "print('您的身高為：%d,您的體重為：%d,您的BMI值為：%0.2f' % (身高,體重,BMI))\n"
      ],
      "metadata": {
        "colab": {
          "base_uri": "https://localhost:8080/"
        },
        "id": "rxLrfusGCDbL",
        "outputId": "014d3ca6-65ef-46ae-b4b2-bba2ebf30550"
      },
      "execution_count": 43,
      "outputs": [
        {
          "output_type": "stream",
          "name": "stdout",
          "text": [
            "請輸入您的身高:180\n",
            "請輸入您的體重:60\n",
            "您的身高為：180,您的體重為：60,您的BMI值為：18.52\n"
          ]
        }
      ]
    },
    {
      "cell_type": "code",
      "source": [
        "a1 = input('請輸入正整數')\n",
        "if a1==偶數:\n",
        "  print(a1'為偶數')\n",
        "else:\n",
        "  print(a1'為奇數'為奇數')"
      ],
      "metadata": {
        "colab": {
          "base_uri": "https://localhost:8080/",
          "height": 133
        },
        "id": "Ejfklds3EEhy",
        "outputId": "caa72b06-cb39-4842-a317-37320764d620"
      },
      "execution_count": 53,
      "outputs": [
        {
          "output_type": "error",
          "ename": "SyntaxError",
          "evalue": "ignored",
          "traceback": [
            "\u001b[0;36m  File \u001b[0;32m\"<ipython-input-53-21a9360ff1f4>\"\u001b[0;36m, line \u001b[0;32m3\u001b[0m\n\u001b[0;31m    print(a1'為偶數')\u001b[0m\n\u001b[0m                ^\u001b[0m\n\u001b[0;31mSyntaxError\u001b[0m\u001b[0;31m:\u001b[0m invalid syntax\n"
          ]
        }
      ]
    },
    {
      "cell_type": "code",
      "source": [
        "體溫=int(input('請輸入您的體溫'))\n",
        "if 體溫<=36:\n",
        "    print('體溫正常，請進校園!')\n",
        "else:\n",
        "  if 體溫>=37.5:\n",
        "    print('體溫過高，請重新量測!')"
      ],
      "metadata": {
        "colab": {
          "base_uri": "https://localhost:8080/"
        },
        "id": "cFcW4lKdF6qq",
        "outputId": "a8b57866-b263-4c32-ec74-7601a3eb7b61"
      },
      "execution_count": 52,
      "outputs": [
        {
          "output_type": "stream",
          "name": "stdout",
          "text": [
            "請輸入您的體溫38\n",
            "體溫過高，請重新量測!\n"
          ]
        }
      ]
    }
  ]
}